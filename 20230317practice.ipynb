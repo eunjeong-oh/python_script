{
 "cells": [
  {
   "cell_type": "code",
   "execution_count": 74,
   "id": "b9bd7295-0e2e-41e4-b489-e8460d0d9eaf",
   "metadata": {},
   "outputs": [
    {
     "name": "stdout",
     "output_type": "stream",
     "text": [
      "p\n",
      "t\n",
      "p t\n"
     ]
    }
   ],
   "source": [
    "#21\n",
    "letters = 'python'\n",
    "print(letters[:1])\n",
    "print(letters[2:3])\n",
    "\n",
    "print(letters[0], letters[2])  "
   ]
  },
  {
   "cell_type": "code",
   "execution_count": 24,
   "id": "d9067a40-b778-4c3a-ba1f-820f02649619",
   "metadata": {},
   "outputs": [
    {
     "data": {
      "text/plain": [
       "'2210'"
      ]
     },
     "execution_count": 24,
     "metadata": {},
     "output_type": "execute_result"
    }
   ],
   "source": [
    "#22\n",
    "license_plate = \"24가 2210\"\n",
    "license_plate = license_plate.split(\" \")\n",
    "license_plate[1]"
   ]
  },
  {
   "cell_type": "code",
   "execution_count": 26,
   "id": "3e1598c1-67f3-423e-b49b-8293e0c3e7d6",
   "metadata": {},
   "outputs": [
    {
     "data": {
      "text/plain": [
       "'2210'"
      ]
     },
     "execution_count": 26,
     "metadata": {},
     "output_type": "execute_result"
    }
   ],
   "source": [
    "#22\n",
    "license_plate = \"24가 2210\"\n",
    "license_plate[-4:]"
   ]
  },
  {
   "cell_type": "code",
   "execution_count": 65,
   "id": "26425069-42f3-4c63-874f-2d69fdc8629e",
   "metadata": {},
   "outputs": [
    {
     "name": "stdout",
     "output_type": "stream",
     "text": [
      "홀홀홀\n",
      "홀홀홀\n"
     ]
    }
   ],
   "source": [
    "#23\n",
    "string = \"홀짝홀짝홀짝\"\n",
    "print(string.replace(\"짝\",\"\"))\n",
    "print(string[::2])\n",
    "\n",
    "##인덱싱 문자열에서 원하는 것만 뽑아내는방법,,? "
   ]
  },
  {
   "cell_type": "code",
   "execution_count": 50,
   "id": "62138019-7518-4d1d-9d05-c869826dd261",
   "metadata": {},
   "outputs": [
    {
     "name": "stdout",
     "output_type": "stream",
     "text": [
      "['H', 'N', 'O', 'P', 'T', 'Y']\n"
     ]
    }
   ],
   "source": [
    "#24 /// 틀림!!!\n",
    "string = \"PYTHON\"\n",
    "newstring = list(string)\n",
    "newstring\n",
    "newstring.sort()\n",
    "print(newstring)"
   ]
  },
  {
   "cell_type": "code",
   "execution_count": 72,
   "id": "1e42e1bb-88f1-4332-9eee-9fecc9d4cb06",
   "metadata": {},
   "outputs": [
    {
     "ename": "SyntaxError",
     "evalue": "invalid syntax (11657199.py, line 2)",
     "output_type": "error",
     "traceback": [
      "\u001b[1;36m  File \u001b[1;32m\"C:\\Users\\SMART-10\\AppData\\Local\\Temp\\ipykernel_19124\\11657199.py\"\u001b[1;36m, line \u001b[1;32m2\u001b[0m\n\u001b[1;33m    print(string.[::-1])\u001b[0m\n\u001b[1;37m                 ^\u001b[0m\n\u001b[1;31mSyntaxError\u001b[0m\u001b[1;31m:\u001b[0m invalid syntax\n"
     ]
    }
   ],
   "source": [
    "string = \"PYTHON\"\n",
    "print(string.[::-1])"
   ]
  },
  {
   "cell_type": "code",
   "execution_count": 51,
   "id": "ad90d878-38bb-4a42-8303-da16ee667099",
   "metadata": {},
   "outputs": [
    {
     "data": {
      "text/plain": [
       "'010 1111 2222'"
      ]
     },
     "execution_count": 51,
     "metadata": {},
     "output_type": "execute_result"
    }
   ],
   "source": [
    "#25\n",
    "phone_number = \"010-1111-2222\"\n",
    "phone_number.replace(\"-\",\" \")"
   ]
  },
  {
   "cell_type": "code",
   "execution_count": 52,
   "id": "a0f88ef1-0578-45e4-b8d2-813398c08c85",
   "metadata": {},
   "outputs": [
    {
     "data": {
      "text/plain": [
       "'01011112222'"
      ]
     },
     "execution_count": 52,
     "metadata": {},
     "output_type": "execute_result"
    }
   ],
   "source": [
    "#26\n",
    "phone_number = \"010-1111-2222\"\n",
    "phone_number.replace(\"-\",\"\")"
   ]
  },
  {
   "cell_type": "code",
   "execution_count": 55,
   "id": "0611968a-419b-4669-9efc-b51ba353c1c4",
   "metadata": {},
   "outputs": [
    {
     "data": {
      "text/plain": [
       "'kr'"
      ]
     },
     "execution_count": 55,
     "metadata": {},
     "output_type": "execute_result"
    }
   ],
   "source": [
    "#27\n",
    "url = \"http://sharebook.kr\"\n",
    "url = url.split(\".\")\n",
    "url[1]"
   ]
  },
  {
   "cell_type": "code",
   "execution_count": 63,
   "id": "832066f9-b4e7-4145-a223-6c936259b800",
   "metadata": {},
   "outputs": [
    {
     "ename": "TypeError",
     "evalue": "'str' object does not support item assignment",
     "output_type": "error",
     "traceback": [
      "\u001b[1;31m---------------------------------------------------------------------------\u001b[0m",
      "\u001b[1;31mTypeError\u001b[0m                                 Traceback (most recent call last)",
      "\u001b[1;32m~\\AppData\\Local\\Temp\\ipykernel_19124\\1176558905.py\u001b[0m in \u001b[0;36m<module>\u001b[1;34m\u001b[0m\n\u001b[0;32m      1\u001b[0m \u001b[1;31m#28 아래 코드의 실행 결과를 예상해보세요.\u001b[0m\u001b[1;33m\u001b[0m\u001b[1;33m\u001b[0m\u001b[0m\n\u001b[0;32m      2\u001b[0m \u001b[0mlang\u001b[0m \u001b[1;33m=\u001b[0m \u001b[1;34m'python'\u001b[0m\u001b[1;33m\u001b[0m\u001b[1;33m\u001b[0m\u001b[0m\n\u001b[1;32m----> 3\u001b[1;33m \u001b[0mlang\u001b[0m\u001b[1;33m[\u001b[0m\u001b[1;36m0\u001b[0m\u001b[1;33m]\u001b[0m \u001b[1;33m=\u001b[0m \u001b[1;34m'P'\u001b[0m\u001b[1;33m\u001b[0m\u001b[1;33m\u001b[0m\u001b[0m\n\u001b[0m\u001b[0;32m      4\u001b[0m \u001b[0mprint\u001b[0m\u001b[1;33m(\u001b[0m\u001b[0mlang\u001b[0m\u001b[1;33m)\u001b[0m\u001b[1;33m\u001b[0m\u001b[1;33m\u001b[0m\u001b[0m\n",
      "\u001b[1;31mTypeError\u001b[0m: 'str' object does not support item assignment"
     ]
    }
   ],
   "source": [
    "#28 아래 코드의 실행 결과를 예상해보세요.\n",
    "lang = 'python'\n",
    "lang[0] = 'P'\n",
    "print(lang)\n"
   ]
  },
  {
   "cell_type": "code",
   "execution_count": 59,
   "id": "b10db5e4-05dc-457a-879c-468ad01bc87d",
   "metadata": {},
   "outputs": [
    {
     "data": {
      "text/plain": [
       "'Abcdfe2A354A32A'"
      ]
     },
     "execution_count": 59,
     "metadata": {},
     "output_type": "execute_result"
    }
   ],
   "source": [
    "#29아래 문자열에서 소문자 'a'를 대문자 'A'로 변경하세요.\n",
    "string = 'abcdfe2a354a32a'\n",
    "string.replace(\"a\",\"A\")"
   ]
  },
  {
   "cell_type": "code",
   "execution_count": 61,
   "id": "0f9fe9a3-3a5d-4f5e-92de-3a9b8f61c701",
   "metadata": {},
   "outputs": [
    {
     "name": "stdout",
     "output_type": "stream",
     "text": [
      "abcd\n"
     ]
    }
   ],
   "source": [
    "#30 아래 코드의 실행 결과를 예상해보세요.\n",
    "string = 'abcd'\n",
    "string.replace('b', 'B')\n",
    "print(string)\n",
    "\n",
    "# -> aBcd"
   ]
  },
  {
   "cell_type": "code",
   "execution_count": 75,
   "id": "cac1bf0b-57cb-421b-93da-da12ac3eebde",
   "metadata": {},
   "outputs": [
    {
     "name": "stdout",
     "output_type": "stream",
     "text": [
      "34\n"
     ]
    }
   ],
   "source": [
    "#31 문자열 합치기\n",
    "a = \"3\"\n",
    "b = \"4\"\n",
    "print(a + b)\n",
    "\n",
    "# -> 34"
   ]
  },
  {
   "cell_type": "code",
   "execution_count": 77,
   "id": "4487d8e1-79a9-4aa7-ad54-634f07565e79",
   "metadata": {},
   "outputs": [
    {
     "name": "stdout",
     "output_type": "stream",
     "text": [
      "HiHiHi\n"
     ]
    }
   ],
   "source": [
    "#32 문자열 곱하기\n",
    "print(\"Hi\" * 3)\n",
    "# => HiHiHi"
   ]
  },
  {
   "cell_type": "code",
   "execution_count": 78,
   "id": "2c58174c-c638-4338-bcac-0c00ce036327",
   "metadata": {},
   "outputs": [
    {
     "name": "stdout",
     "output_type": "stream",
     "text": [
      "--------------------------------------------------------------------------------\n"
     ]
    }
   ],
   "source": [
    "#33 화면에 '-'를 80개 출력하세요.\n",
    "print(\"-\"*80)"
   ]
  },
  {
   "cell_type": "code",
   "execution_count": 80,
   "id": "f67fcae6-0409-4e57-9863-255fe1b2e670",
   "metadata": {},
   "outputs": [
    {
     "name": "stdout",
     "output_type": "stream",
     "text": [
      "python java python java python java python java \n"
     ]
    }
   ],
   "source": [
    "#34 변수에 문자열 더하기와 문자열 곱하기를 사용해서 아래와 같이 출력해보세요.\n",
    "t1 = 'python'\n",
    "t2 = 'java'\n",
    "\n",
    "print ((t1 +\" \" + t2 + \" \") * 4)"
   ]
  },
  {
   "cell_type": "code",
   "execution_count": 88,
   "id": "b3d44f89-83ac-4394-a0f1-c9f9c3b5bea0",
   "metadata": {},
   "outputs": [
    {
     "name": "stdout",
     "output_type": "stream",
     "text": [
      "이름: 김민수 나이: 10\n",
      "이름: 이철희 나이: 13\n"
     ]
    }
   ],
   "source": [
    "#35 변수에 다음과 같이 문자열과 정수가 바인딩되어 있을 때 % formatting을 사용해서 다음과 같이 출력해보세요.\n",
    "\n",
    "name1 = \"김민수\" \n",
    "age1 = 10\n",
    "name2 = \"이철희\"\n",
    "age2 = 13\n",
    "\n",
    "print(\"이름: %s 나이: %d\" % (name1, age1))\n",
    "print(\"이름: %s 나이: %d\" % (name2, age2))"
   ]
  },
  {
   "cell_type": "code",
   "execution_count": 85,
   "id": "57d25d40-a2bb-416c-93e9-bb9add4bca3d",
   "metadata": {},
   "outputs": [
    {
     "name": "stdout",
     "output_type": "stream",
     "text": [
      "3, 5\n"
     ]
    }
   ],
   "source": [
    "#36 문자열의 format( ) 메서드를 사용해서 035번 문제를 다시 풀어보세요.\n",
    "\n",
    "name1 = \"김민수\" \n",
    "age1 = 10\n",
    "name2 = \"이철희\"\n",
    "age2 = 13\n",
    "\n",
    "print(\"이름:{} 나이:{}\" .format(name1, age1))\n",
    "print(\"이름:{} 나이:{}\" .format(name2, age2))"
   ]
  },
  {
   "cell_type": "code",
   "execution_count": 90,
   "id": "0aa021f3-8006-4e3f-8483-18f6823109ed",
   "metadata": {},
   "outputs": [
    {
     "name": "stdout",
     "output_type": "stream",
     "text": [
      "이름: 김민수 나이: 10\n",
      "이름: 이철희 나이: 13\n"
     ]
    }
   ],
   "source": [
    "#37 파이썬 3.6부터 지원하는 f-string을 사용해서 035번 문제를 다시 풀어보세요.\n",
    "name1 = \"김민수\" \n",
    "age1 = 10\n",
    "name2 = \"이철희\"\n",
    "age2 = 13\n",
    "\n",
    "print(f\"이름: {name1} 나이: {age1}\")\n",
    "print(f\"이름: {name2} 나이: {age2}\")"
   ]
  },
  {
   "cell_type": "code",
   "execution_count": 105,
   "id": "a39fcfbc-818a-4eb0-8013-83ee93721fc6",
   "metadata": {},
   "outputs": [
    {
     "data": {
      "text/plain": [
       "'5969782550'"
      ]
     },
     "execution_count": 105,
     "metadata": {},
     "output_type": "execute_result"
    }
   ],
   "source": [
    "#38 삼성전자의 상장주식수가 다음과 같습니다. 컴마를 제거한 후 이를 정수 타입으로 변환해보세요.\n",
    "\n",
    "a = \"5,969,782,550\"\n",
    "a = a.replace(\",\",\"\")\n",
    "a"
   ]
  },
  {
   "cell_type": "code",
   "execution_count": 98,
   "id": "910abaac-3747-4150-99d5-267a43817361",
   "metadata": {},
   "outputs": [
    {
     "data": {
      "text/plain": [
       "5969782550"
      ]
     },
     "execution_count": 98,
     "metadata": {},
     "output_type": "execute_result"
    }
   ],
   "source": [
    "int(a)"
   ]
  },
  {
   "cell_type": "code",
   "execution_count": 114,
   "id": "a25fa598-c279-405d-823f-b7c7112fc2f1",
   "metadata": {},
   "outputs": [
    {
     "data": {
      "text/plain": [
       "'2020/03'"
      ]
     },
     "execution_count": 114,
     "metadata": {},
     "output_type": "execute_result"
    }
   ],
   "source": [
    "#39 다음과 같은 문자열에서 '2020/03'만 출력하세요.\n",
    "\n",
    "inputline = \"2020/03(E) (IFRS연결)\"\n",
    "invalue = \"2020/03\"\n",
    "inputline[:len(invalue)]"
   ]
  },
  {
   "cell_type": "code",
   "execution_count": 116,
   "id": "2f30e9ca-7746-4488-9c04-bbe40f95167b",
   "metadata": {},
   "outputs": [
    {
     "data": {
      "text/plain": [
       "'삼성전자'"
      ]
     },
     "execution_count": 116,
     "metadata": {},
     "output_type": "execute_result"
    }
   ],
   "source": [
    "#40 strip 메서드\n",
    "\n",
    "data = \"   삼성전자    \"\n",
    "data.strip()\n"
   ]
  },
  {
   "cell_type": "code",
   "execution_count": 117,
   "id": "2258efd0-e798-4c44-8e0f-ad6eb0bd60b8",
   "metadata": {},
   "outputs": [
    {
     "data": {
      "text/plain": [
       "'BTC_KRW'"
      ]
     },
     "execution_count": 117,
     "metadata": {},
     "output_type": "execute_result"
    }
   ],
   "source": [
    "#41 다음과 같은 문자열이 있을 때 이를 대문자 BTC_KRW로 변경하세요.\n",
    "\n",
    "ticker = \"btc_krw\"\n",
    "ticker.upper()"
   ]
  },
  {
   "cell_type": "code",
   "execution_count": 118,
   "id": "27d758f2-f899-430b-8e4c-2271efed0a97",
   "metadata": {},
   "outputs": [
    {
     "data": {
      "text/plain": [
       "'btc_krw'"
      ]
     },
     "execution_count": 118,
     "metadata": {},
     "output_type": "execute_result"
    }
   ],
   "source": [
    "#42 소문자 변경\n",
    "ticker = \"BTC_KRW\"\n",
    "ticker.lower()"
   ]
  },
  {
   "cell_type": "code",
   "execution_count": 122,
   "id": "7745bb8a-34b0-4307-bd63-2a13a2f3064a",
   "metadata": {},
   "outputs": [
    {
     "data": {
      "text/plain": [
       "'Hello'"
      ]
     },
     "execution_count": 122,
     "metadata": {},
     "output_type": "execute_result"
    }
   ],
   "source": [
    "#43  H만 대문자로\n",
    "testword = \"hello\"\n",
    "testword.capitalize()"
   ]
  },
  {
   "cell_type": "code",
   "execution_count": 125,
   "id": "8edcad53-91f4-42ad-8f63-f41edb3af184",
   "metadata": {},
   "outputs": [
    {
     "ename": "AttributeError",
     "evalue": "'str' object has no attribute 'endswich'",
     "output_type": "error",
     "traceback": [
      "\u001b[1;31m---------------------------------------------------------------------------\u001b[0m",
      "\u001b[1;31mAttributeError\u001b[0m                            Traceback (most recent call last)",
      "\u001b[1;32m~\\AppData\\Local\\Temp\\ipykernel_19124\\605714644.py\u001b[0m in \u001b[0;36m<module>\u001b[1;34m\u001b[0m\n\u001b[0;32m      1\u001b[0m \u001b[1;31m#44 ednswich\u001b[0m\u001b[1;33m\u001b[0m\u001b[1;33m\u001b[0m\u001b[0m\n\u001b[0;32m      2\u001b[0m \u001b[0mfile_name\u001b[0m \u001b[1;33m=\u001b[0m\u001b[1;34m\"report.xlsx\"\u001b[0m\u001b[1;33m\u001b[0m\u001b[1;33m\u001b[0m\u001b[0m\n\u001b[1;32m----> 3\u001b[1;33m \u001b[0mfile_name\u001b[0m\u001b[1;33m.\u001b[0m\u001b[0mendswich\u001b[0m\u001b[1;33m(\u001b[0m\u001b[1;34m\"xlsx\"\u001b[0m\u001b[1;33m)\u001b[0m\u001b[1;33m\u001b[0m\u001b[1;33m\u001b[0m\u001b[0m\n\u001b[0m",
      "\u001b[1;31mAttributeError\u001b[0m: 'str' object has no attribute 'endswich'"
     ]
    }
   ],
   "source": [
    "#44 ednswich\n",
    "file_name =\"report.xlsx\""
   ]
  },
  {
   "cell_type": "code",
   "execution_count": 128,
   "id": "700505fa-861b-4d6c-bec7-b0960201b117",
   "metadata": {},
   "outputs": [
    {
     "data": {
      "text/plain": [
       "['hello', 'world']"
      ]
     },
     "execution_count": 128,
     "metadata": {},
     "output_type": "execute_result"
    }
   ],
   "source": [
    "#47 공백을 기준으로 문자열을 나눠보세요\n",
    "a = \"hello world\"\n",
    "a.split(\" \")"
   ]
  },
  {
   "cell_type": "code",
   "execution_count": 129,
   "id": "6ef26556-11d0-4006-b8ce-76a2cfa965e9",
   "metadata": {},
   "outputs": [
    {
     "data": {
      "text/plain": [
       "['btc', 'krw']"
      ]
     },
     "execution_count": 129,
     "metadata": {},
     "output_type": "execute_result"
    }
   ],
   "source": [
    "#48 \n",
    "ticker = \"btc_krw\"\n",
    "ticker.split(\"_\")"
   ]
  },
  {
   "cell_type": "code",
   "execution_count": 130,
   "id": "393c3235-6905-4060-80cd-ff8d3d99390b",
   "metadata": {},
   "outputs": [
    {
     "name": "stdout",
     "output_type": "stream",
     "text": [
      "2020\n",
      "05\n",
      "01\n"
     ]
    }
   ],
   "source": [
    "#49\n",
    "date = \"2020-05-01\"\n",
    "date = date.split(\"-\")\n",
    "year = date[0]\n",
    "month = date[1]\n",
    "day = date[2]\n",
    "\n",
    "print(year)\n",
    "print(month)\n",
    "print(day)"
   ]
  },
  {
   "cell_type": "code",
   "execution_count": 132,
   "id": "b4faf941-19a7-4d82-942f-2f9e8c29fc9f",
   "metadata": {},
   "outputs": [
    {
     "data": {
      "text/plain": [
       "'039490'"
      ]
     },
     "execution_count": 132,
     "metadata": {},
     "output_type": "execute_result"
    }
   ],
   "source": [
    "#50 \n",
    "data = \"039490     \"\n",
    "data.rstrip()"
   ]
  },
  {
   "cell_type": "code",
   "execution_count": 12,
   "id": "2652314f-a344-46d2-80b6-a53091e76446",
   "metadata": {},
   "outputs": [
    {
     "data": {
      "text/plain": [
       "['doctor_strange', 'split', 'lucky']"
      ]
     },
     "execution_count": 12,
     "metadata": {},
     "output_type": "execute_result"
    }
   ],
   "source": [
    "#51 영화 제목을 movie_rank 이름의 리스트에 저장\n",
    "movie_rank = [\"doctor_strange\", \"split\",\"lucky\"]\n",
    "movie_rank"
   ]
  },
  {
   "cell_type": "code",
   "execution_count": 13,
   "id": "6f6110a7-826d-4f71-96b9-0670da0179c0",
   "metadata": {},
   "outputs": [
    {
     "data": {
      "text/plain": [
       "['doctor_strange', 'split', 'lucky', 'batman']"
      ]
     },
     "execution_count": 13,
     "metadata": {},
     "output_type": "execute_result"
    }
   ],
   "source": [
    "#52\n",
    "movie_rank.append(\"batman\")\n",
    "movie_rank"
   ]
  },
  {
   "cell_type": "code",
   "execution_count": 15,
   "id": "2f44109e-d2e8-43b7-8d96-e48eeacc0699",
   "metadata": {},
   "outputs": [
    {
     "data": {
      "text/plain": [
       "['doctor_strange', 'superman', 'superman', 'split', 'lucky', 'batman']"
      ]
     },
     "execution_count": 15,
     "metadata": {},
     "output_type": "execute_result"
    }
   ],
   "source": [
    "#53\n",
    "movie_rank.insert(1,\"superman\")\n",
    "movie_rank\n"
   ]
  },
  {
   "cell_type": "code",
   "execution_count": 17,
   "id": "82967f2f-e122-4a06-aa33-4206d513d62e",
   "metadata": {},
   "outputs": [
    {
     "data": {
      "text/plain": [
       "['doctor_strange', 'superman', 'split', 'batman']"
      ]
     },
     "execution_count": 17,
     "metadata": {},
     "output_type": "execute_result"
    }
   ],
   "source": [
    "#54\n",
    "movie_rank = ['doctor_strange', 'superman', 'split', 'lucky', 'batman']\n",
    "movie_rank.remove('lucky')\n",
    "movie_rank"
   ]
  },
  {
   "cell_type": "code",
   "execution_count": 22,
   "id": "22e471b9-b2c3-41df-9a7b-2c05285e4874",
   "metadata": {},
   "outputs": [
    {
     "data": {
      "text/plain": [
       "['doctor_strange', 'superman', 'split', 'lucky']"
      ]
     },
     "execution_count": 22,
     "metadata": {},
     "output_type": "execute_result"
    }
   ],
   "source": [
    "movie_rank = ['doctor_strange', 'superman', 'split', 'lucky', 'batman']\n",
    "del movie_rank[4]\n",
    "movie_rank"
   ]
  },
  {
   "cell_type": "code",
   "execution_count": 34,
   "id": "2f36a14b-8ca5-48c1-ac95-81f775042db0",
   "metadata": {},
   "outputs": [],
   "source": [
    "#55\n",
    "movie_rank = ['doctor_strange', 'superman', 'split', 'lucky', 'batman']\n",
    "type(movie_rank)\n",
    "movie_rank.remove('batman')"
   ]
  },
  {
   "cell_type": "code",
   "execution_count": 35,
   "id": "00937a38-c7f3-426f-8356-9b979d062ba4",
   "metadata": {},
   "outputs": [
    {
     "name": "stdout",
     "output_type": "stream",
     "text": [
      "['C', 'C++', 'JAVA', 'Python', 'Go', 'C#']\n"
     ]
    }
   ],
   "source": [
    "#56 리스트 합치기\n",
    "lang1 = [\"C\", \"C++\", \"JAVA\"]\n",
    "lang2 = [\"Python\", \"Go\", \"C#\"]\n",
    "\n",
    "lang3 = lang1 + lang2\n",
    "print(lang3)"
   ]
  },
  {
   "cell_type": "code",
   "execution_count": 36,
   "id": "1da4ce03-a5b5-4958-8a3d-40df08450f89",
   "metadata": {},
   "outputs": [
    {
     "name": "stdout",
     "output_type": "stream",
     "text": [
      "1\n",
      "7\n"
     ]
    }
   ],
   "source": [
    "#57 리스트 최대,최소값\n",
    "nums = [1, 2, 3, 4, 5, 6, 7]\n",
    "print(min(nums))\n",
    "print(max(nums))"
   ]
  },
  {
   "cell_type": "code",
   "execution_count": 38,
   "id": "b3b49089-30b1-4ea5-8fb4-fcf69b2766a2",
   "metadata": {},
   "outputs": [
    {
     "name": "stdout",
     "output_type": "stream",
     "text": [
      "15\n"
     ]
    }
   ],
   "source": [
    "#58 리스트의 합 출력\n",
    "nums = [1, 2, 3, 4, 5]\n",
    "print(sum(nums))"
   ]
  },
  {
   "cell_type": "code",
   "execution_count": 39,
   "id": "f37cee33-c06f-4727-bc90-db982af34c1c",
   "metadata": {},
   "outputs": [
    {
     "name": "stdout",
     "output_type": "stream",
     "text": [
      "12\n"
     ]
    }
   ],
   "source": [
    "#59 리스트 내 데이터 갯수 \n",
    "cook = [\"피자\", \"김밥\", \"만두\", \"양념치킨\", \"족발\", \"피자\", \"김치만두\", \"쫄면\", \"소시지\", \"라면\", \"팥빙수\", \"김치전\"]\n",
    "print(len(cook))"
   ]
  },
  {
   "cell_type": "code",
   "execution_count": 40,
   "id": "355f4828-a7f6-42ef-a8c1-094a30f002db",
   "metadata": {},
   "outputs": [
    {
     "data": {
      "text/plain": [
       "3.0"
      ]
     },
     "execution_count": 40,
     "metadata": {},
     "output_type": "execute_result"
    }
   ],
   "source": [
    "#60 리스트 평균\n",
    "nums = [1, 2, 3, 4, 5]\n",
    "\n",
    "lenth = len(nums)\n",
    "summation = sum(nums)\n",
    "average = summation / lenth\n",
    "average"
   ]
  },
  {
   "cell_type": "code",
   "execution_count": 42,
   "id": "3a9badec-9d1a-44a2-9b38-d2aa85a4b626",
   "metadata": {},
   "outputs": [
    {
     "data": {
      "text/plain": [
       "[100, 130, 140, 150, 160, 170]"
      ]
     },
     "execution_count": 42,
     "metadata": {},
     "output_type": "execute_result"
    }
   ],
   "source": [
    "#61 가격정보만 출력\n",
    "price = ['20180728', 100, 130, 140, 150, 160, 170]\n",
    "newprice = price[1:]\n",
    "newprice"
   ]
  },
  {
   "cell_type": "code",
   "execution_count": 43,
   "id": "302845ce-168f-4bdc-addb-1c406a03978d",
   "metadata": {},
   "outputs": [
    {
     "data": {
      "text/plain": [
       "[1, 3, 5, 7, 9]"
      ]
     },
     "execution_count": 43,
     "metadata": {},
     "output_type": "execute_result"
    }
   ],
   "source": [
    "#62 홀수만 출력\n",
    "nums = [1, 2, 3, 4, 5, 6, 7, 8, 9, 10]\n",
    "nums[::2]"
   ]
  },
  {
   "cell_type": "code",
   "execution_count": 44,
   "id": "efe32d28-18d3-4cc5-8932-983b83ce39c1",
   "metadata": {},
   "outputs": [
    {
     "data": {
      "text/plain": [
       "[2, 4, 6, 8, 10]"
      ]
     },
     "execution_count": 44,
     "metadata": {},
     "output_type": "execute_result"
    }
   ],
   "source": [
    "#63 짝수만 출력\n",
    "nums = [1, 2, 3, 4, 5, 6, 7, 8, 9, 10]\n",
    "nums[1::2]"
   ]
  },
  {
   "cell_type": "code",
   "execution_count": 45,
   "id": "2bcdd951-3232-4c9c-8844-dec2ddffb6da",
   "metadata": {},
   "outputs": [
    {
     "data": {
      "text/plain": [
       "[5, 4, 3, 2, 1]"
      ]
     },
     "execution_count": 45,
     "metadata": {},
     "output_type": "execute_result"
    }
   ],
   "source": [
    "#64 역방향출력\n",
    "nums = [1, 2, 3, 4, 5]\n",
    "nums[::-1]"
   ]
  },
  {
   "cell_type": "code",
   "execution_count": 47,
   "id": "9bb63be6-b56f-47ac-aabb-510a2f21a397",
   "metadata": {},
   "outputs": [
    {
     "data": {
      "text/plain": [
       "('삼성전자', 'Naver')"
      ]
     },
     "execution_count": 47,
     "metadata": {},
     "output_type": "execute_result"
    }
   ],
   "source": [
    "#65 삼전 네이버 출력\n",
    "interest = ['삼성전자', 'LG전자', 'Naver']\n",
    "interest[0], interest[2]"
   ]
  },
  {
   "cell_type": "code",
   "execution_count": 49,
   "id": "553d3f21-830c-41b2-ba51-69aa30fd96b9",
   "metadata": {},
   "outputs": [
    {
     "data": {
      "text/plain": [
       "['삼성전자', 'LG전자', 'Naver', 'SK하이닉스', '미래에셋대우']"
      ]
     },
     "execution_count": 49,
     "metadata": {},
     "output_type": "execute_result"
    }
   ],
   "source": [
    "#66 \n",
    "interest = ['삼성전자', 'LG전자', 'Naver', 'SK하이닉스', '미래에셋대우']\n",
    "interest[:len(interest)]"
   ]
  },
  {
   "cell_type": "code",
   "execution_count": 51,
   "id": "d2271999-d94b-4b4c-b553-d5aa53d768eb",
   "metadata": {},
   "outputs": [
    {
     "data": {
      "text/plain": [
       "'apple banana cherry'"
      ]
     },
     "execution_count": 51,
     "metadata": {},
     "output_type": "execute_result"
    }
   ],
   "source": [
    "seperator = \" \"\n",
    "my_list = [\"apple\", \"banana\", \"cherry\"]\n",
    "result = seperator.join(my_list)\n",
    "result"
   ]
  },
  {
   "cell_type": "code",
   "execution_count": 52,
   "id": "766e3869-8ef3-4216-8d40-76e52fb4f040",
   "metadata": {},
   "outputs": [
    {
     "data": {
      "text/plain": [
       "'1 2 3'"
      ]
     },
     "execution_count": 52,
     "metadata": {},
     "output_type": "execute_result"
    }
   ],
   "source": [
    "seperator = \" \"\n",
    "my_list = [1, 2, 3]\n",
    "result = seperator.join(map(str, my_list))\n",
    "result"
   ]
  },
  {
   "cell_type": "code",
   "execution_count": 54,
   "id": "d2aa1f00-6d5d-4fb7-a514-1a7270eb0dae",
   "metadata": {},
   "outputs": [
    {
     "data": {
      "text/plain": [
       "list"
      ]
     },
     "execution_count": 54,
     "metadata": {},
     "output_type": "execute_result"
    }
   ],
   "source": [
    "my_list = [1, 2, 3]\n",
    "map(str, my_list)\n",
    "type(my_list)"
   ]
  },
  {
   "cell_type": "code",
   "execution_count": 57,
   "id": "790b8b62-41a4-455b-a40b-6a72a861caad",
   "metadata": {},
   "outputs": [
    {
     "name": "stdin",
     "output_type": "stream",
     "text": [
      " 1 2 5 4 6 7 8\n"
     ]
    },
    {
     "data": {
      "text/plain": [
       "[1, 2, 5, 4, 6, 7, 8]"
      ]
     },
     "execution_count": 57,
     "metadata": {},
     "output_type": "execute_result"
    }
   ],
   "source": [
    "a = list(map(int,input().split()))\n",
    "a"
   ]
  },
  {
   "cell_type": "code",
   "execution_count": 58,
   "id": "7d7a7aca-c28f-49c4-9bb7-5a6578459962",
   "metadata": {},
   "outputs": [
    {
     "data": {
      "text/plain": [
       "list"
      ]
     },
     "execution_count": 58,
     "metadata": {},
     "output_type": "execute_result"
    }
   ],
   "source": [
    "type(a)"
   ]
  },
  {
   "cell_type": "code",
   "execution_count": 60,
   "id": "3a73b9e9-2b5b-43ab-9ec2-88c0bb272e4d",
   "metadata": {},
   "outputs": [
    {
     "data": {
      "text/plain": [
       "int"
      ]
     },
     "execution_count": 60,
     "metadata": {},
     "output_type": "execute_result"
    }
   ],
   "source": [
    "type(a[0])"
   ]
  },
  {
   "cell_type": "code",
   "execution_count": 64,
   "id": "80840ec8-8e3f-498d-af6d-88b964bf2262",
   "metadata": {},
   "outputs": [
    {
     "name": "stdin",
     "output_type": "stream",
     "text": [
      " 1 2 3 4 5 7\n"
     ]
    }
   ],
   "source": [
    "a = list(map(int, input().split()))"
   ]
  },
  {
   "cell_type": "code",
   "execution_count": 68,
   "id": "b2daab06-3f68-4c94-ba9d-454fd9c0a7d2",
   "metadata": {},
   "outputs": [
    {
     "data": {
      "text/plain": [
       "int"
      ]
     },
     "execution_count": 68,
     "metadata": {},
     "output_type": "execute_result"
    }
   ],
   "source": [
    "type(a[0])"
   ]
  },
  {
   "cell_type": "code",
   "execution_count": 69,
   "id": "837d919e-1c62-4302-ae7c-7935a5d9f722",
   "metadata": {},
   "outputs": [
    {
     "data": {
      "text/plain": [
       "'1 2 3 4 5 7'"
      ]
     },
     "execution_count": 69,
     "metadata": {},
     "output_type": "execute_result"
    }
   ],
   "source": [
    "seperator =\" \"\n",
    "a1 = seperator.join(map(str, a))\n",
    "a1"
   ]
  },
  {
   "cell_type": "code",
   "execution_count": 2,
   "id": "f1210dcc-8cd1-400a-9901-528629663798",
   "metadata": {},
   "outputs": [
    {
     "data": {
      "text/plain": [
       "'삼성전자/LG전자/Naver/SK하이닉스/미래에셋대우'"
      ]
     },
     "execution_count": 2,
     "metadata": {},
     "output_type": "execute_result"
    }
   ],
   "source": [
    "interest = ['삼성전자', 'LG전자', 'Naver', 'SK하이닉스', '미래에셋대우']\n",
    "\n",
    "sepor = \"/\"\n",
    "sepor.join(interest)"
   ]
  },
  {
   "cell_type": "code",
   "execution_count": 3,
   "id": "4bebcdfd-5cc9-466d-a9b0-461b809e6a2d",
   "metadata": {},
   "outputs": [
    {
     "data": {
      "text/plain": [
       "['삼성전자', 'LG전자', 'Naver']"
      ]
     },
     "execution_count": 3,
     "metadata": {},
     "output_type": "execute_result"
    }
   ],
   "source": [
    "#69 \n",
    "string = \"삼성전자/LG전자/Naver\"\n",
    "string.split(\"/\")"
   ]
  },
  {
   "cell_type": "code",
   "execution_count": 6,
   "id": "b287cf37-0c2a-4b90-8683-c28ad6bd92bd",
   "metadata": {},
   "outputs": [
    {
     "data": {
      "text/plain": [
       "[1, 2, 3, 4, 5, 9, 10]"
      ]
     },
     "execution_count": 6,
     "metadata": {},
     "output_type": "execute_result"
    }
   ],
   "source": [
    "#70\n",
    "data = [2, 4, 3, 1, 5, 10, 9]\n",
    "data.sort()\n",
    "data"
   ]
  },
  {
   "cell_type": "code",
   "execution_count": 8,
   "id": "35256550-9010-474f-8f4b-56ff0447dbb4",
   "metadata": {},
   "outputs": [
    {
     "data": {
      "text/plain": [
       "type"
      ]
     },
     "execution_count": 8,
     "metadata": {},
     "output_type": "execute_result"
    }
   ],
   "source": [
    "#101 \n",
    "a = bool\n",
    "type(a)"
   ]
  },
  {
   "cell_type": "code",
   "execution_count": 9,
   "id": "a4912dd2-ffdf-4b00-ad9f-03409f95972e",
   "metadata": {},
   "outputs": [
    {
     "name": "stdout",
     "output_type": "stream",
     "text": [
      "False\n"
     ]
    }
   ],
   "source": [
    "print(3==5)"
   ]
  },
  {
   "cell_type": "code",
   "execution_count": 10,
   "id": "9cecae86-9fe5-40b5-a5c1-15e7c76945c4",
   "metadata": {},
   "outputs": [
    {
     "name": "stdout",
     "output_type": "stream",
     "text": [
      "True\n"
     ]
    }
   ],
   "source": [
    "print ( 3 ==3 ) and ( 4 != 3)"
   ]
  },
  {
   "cell_type": "code",
   "execution_count": 13,
   "id": "d4f53abd-330d-48a9-a8ba-484a938ac5a0",
   "metadata": {},
   "outputs": [],
   "source": [
    "if 4 < 3 : \n",
    "    print (\"Hello World\")"
   ]
  },
  {
   "cell_type": "code",
   "execution_count": 14,
   "id": "b5fa3017-420d-444b-9f61-2ef7b482bed9",
   "metadata": {},
   "outputs": [
    {
     "name": "stdout",
     "output_type": "stream",
     "text": [
      "Hi, there\n"
     ]
    }
   ],
   "source": [
    "if 4 < 3 :\n",
    "    print (\"Hello World\")\n",
    "else :\n",
    "    print (\"Hi, there\")"
   ]
  },
  {
   "cell_type": "code",
   "execution_count": 17,
   "id": "08d3a10e-4666-4ace-9755-8f2d4ecfc042",
   "metadata": {},
   "outputs": [
    {
     "name": "stdout",
     "output_type": "stream",
     "text": [
      "1\n",
      "2\n",
      "3\n"
     ]
    }
   ],
   "source": [
    "if True :\n",
    "    print (\"1\")\n",
    "    print (\"2\")\n",
    "else : \n",
    "    print(\"3\")\n",
    "print(\"3\")    "
   ]
  },
  {
   "cell_type": "code",
   "execution_count": 18,
   "id": "7129dc0f-0b9e-48b8-95dc-3b7764a59015",
   "metadata": {},
   "outputs": [
    {
     "name": "stdout",
     "output_type": "stream",
     "text": [
      "3\n",
      "5\n"
     ]
    }
   ],
   "source": [
    "if True :\n",
    "    if False:\n",
    "        print(\"1\")\n",
    "        print(\"2\")\n",
    "    else:\n",
    "        print(\"3\")\n",
    "else :\n",
    "    print(\"4\")\n",
    "print(\"5\")\n"
   ]
  },
  {
   "cell_type": "code",
   "execution_count": 20,
   "id": "90b1cb8a-d816-460a-9395-3efdde277c3e",
   "metadata": {},
   "outputs": [
    {
     "name": "stdout",
     "output_type": "stream",
     "text": [
      "3\n",
      "3\n"
     ]
    }
   ],
   "source": [
    "if False :\n",
    "    print (\"1\")\n",
    "    print (\"2\")\n",
    "else : \n",
    "    print(\"3\")\n",
    "print(\"3\")    "
   ]
  },
  {
   "cell_type": "code",
   "execution_count": 21,
   "id": "9e788cad-39af-431a-ae96-bced2b248af6",
   "metadata": {},
   "outputs": [
    {
     "name": "stdin",
     "output_type": "stream",
     "text": [
      "입력: 안녕하세요\n"
     ]
    },
    {
     "name": "stdout",
     "output_type": "stream",
     "text": [
      "안녕하세요안녕하세요\n"
     ]
    }
   ],
   "source": [
    "#111 \n",
    "\n",
    "user = input(\"입력:\")\n",
    "print(user * 2)"
   ]
  },
  {
   "cell_type": "code",
   "execution_count": 27,
   "id": "8febcbf9-5041-4e9f-b1fb-dfb35508e3e4",
   "metadata": {},
   "outputs": [
    {
     "name": "stdin",
     "output_type": "stream",
     "text": [
      "숫자 입력: 30\n"
     ]
    },
    {
     "name": "stdout",
     "output_type": "stream",
     "text": [
      "40\n"
     ]
    }
   ],
   "source": [
    "#112\n",
    "user = input(\"숫자 입력:\")\n",
    "print(int(user) + 10)"
   ]
  },
  {
   "cell_type": "code",
   "execution_count": 30,
   "id": "874cb6e3-da6b-46a7-808e-2c88636e414f",
   "metadata": {},
   "outputs": [
    {
     "name": "stdin",
     "output_type": "stream",
     "text": [
      "숫자 입력 15\n"
     ]
    },
    {
     "name": "stdout",
     "output_type": "stream",
     "text": [
      "홀수\n"
     ]
    }
   ],
   "source": [
    "#113사용자로부터 하나의 숫자를 입력 받고 짝수/홀수를 판별하라.\n",
    "\n",
    "user = input(\"숫자 입력\")\n",
    "user = int(user)\n",
    "if (user % 2 == 0) :\n",
    "    print (\"짝수\")\n",
    "else : \n",
    "    print (\"홀수\")"
   ]
  },
  {
   "cell_type": "code",
   "execution_count": 34,
   "id": "0074f62c-0daa-4fc1-a7a1-e8ed6738b8ea",
   "metadata": {},
   "outputs": [
    {
     "name": "stdin",
     "output_type": "stream",
     "text": [
      "숫자입력 200\n"
     ]
    },
    {
     "name": "stdout",
     "output_type": "stream",
     "text": [
      "220\n"
     ]
    }
   ],
   "source": [
    "#114 사용자로부터 값을 입력받은 후 해당 값에 20을 더한 값을 출력하라. \n",
    "#단 사용자가 입력한 값과 20을 더한 계산 값이 255를 초과하는 경우 255를 출력해야 한다.\n",
    "#1. 사용자값 입력받기\n",
    "#2. 입력값 + 20 더한값 출력하기 ㅡ 입력값 int 변환\n",
    "#3. 조건걸기 ( 255 초과시 255 출력)\n",
    "\n",
    "user = input(\"숫자입력\")\n",
    "user = int(user)\n",
    "\n",
    "result = user + 20\n",
    "if (result > 255 ) : \n",
    "    print (255)\n",
    "else :\n",
    "    print(result)"
   ]
  },
  {
   "cell_type": "code",
   "execution_count": 46,
   "id": "3ed9fe65-c17a-41b2-9d38-7743a972632a",
   "metadata": {},
   "outputs": [
    {
     "name": "stdin",
     "output_type": "stream",
     "text": [
      "숫자입력 15\n"
     ]
    },
    {
     "name": "stdout",
     "output_type": "stream",
     "text": [
      "0\n"
     ]
    }
   ],
   "source": [
    "#115\n",
    "#입력받은 후 해당 값에 20을 뺀 값을 출력 /\n",
    "#결괏값이 0보다 작을때 0을 출력하고 255보다 클때 255를 출력\n",
    "\n",
    "#1. 입력값 받기 : input \n",
    "# 2. 입력값 - 20 결과값 만들기 : int 사용 및 결과값 변수 \n",
    "# 3. 출력값 범위 지정 : if문 사용 0보다 작을때, 255보다 클때\n",
    "\n",
    "user = input (\"숫자입력\")\n",
    "user = int(user)\n",
    "result = user - 20\n",
    "if (result > 255) :\n",
    "    print (255)\n",
    "elif (result < 0) :\n",
    "    print(0)\n",
    "else :\n",
    "    print(result)"
   ]
  },
  {
   "cell_type": "code",
   "execution_count": 60,
   "id": "da057fbe-67e0-4a1e-ba7a-d5c752378569",
   "metadata": {},
   "outputs": [
    {
     "name": "stdin",
     "output_type": "stream",
     "text": [
      "과일 포도\n"
     ]
    },
    {
     "name": "stdout",
     "output_type": "stream",
     "text": [
      "정답입니다\n"
     ]
    }
   ],
   "source": [
    "#117\n",
    "#1. 단어입력받기\n",
    "#2. 리스트 안 단어와 일치하는지 확인  \n",
    "#3. 결과값 출력(정답/ 오답)\n",
    "fruit = [\"사과\", \"포도\", \"홍시\"]\n",
    "\n",
    "user = input(\"과일\")\n",
    "if (user == fruit[0] or user == fruit[1] or user == fruit[2]) : \n",
    "    print(\"정답입니다\")\n",
    "else :\n",
    "    print(\"오답입니다\")"
   ]
  },
  {
   "cell_type": "code",
   "execution_count": 61,
   "id": "ef2f8c13-68ab-4005-b539-b8b1a16e582a",
   "metadata": {},
   "outputs": [
    {
     "name": "stdin",
     "output_type": "stream",
     "text": [
      "과일 홍시\n"
     ]
    },
    {
     "name": "stdout",
     "output_type": "stream",
     "text": [
      "정답입니다\n"
     ]
    }
   ],
   "source": [
    "fruit = [\"사과\", \"포도\", \"홍시\"]\n",
    "user = input(\"과일\")\n",
    "if user in fruit :\n",
    "        print(\"정답입니다\")\n",
    "else :\n",
    "    print(\"오답입니다\")"
   ]
  },
  {
   "cell_type": "code",
   "execution_count": null,
   "id": "0eb0baba-4c36-4959-b865-db42ab3cd19b",
   "metadata": {},
   "outputs": [],
   "source": []
  },
  {
   "cell_type": "code",
   "execution_count": null,
   "id": "db1de324-c305-41ab-9e4d-9e736fe56416",
   "metadata": {},
   "outputs": [],
   "source": []
  },
  {
   "cell_type": "code",
   "execution_count": 86,
   "id": "65c12ab7-0d91-4a28-822a-d79cb4cc41e9",
   "metadata": {},
   "outputs": [
    {
     "name": "stdout",
     "output_type": "stream",
     "text": [
      "['microsoft', 'google', 'naver', 'kakao', 'samsung', 'lg']\n"
     ]
    }
   ],
   "source": [
    "#118\n",
    "#1.사용자로부터 종목명 입력받기 - insert\n",
    "#2. 해당 종목명이 투자경고 종목에 포함되는지 in \n",
    "#3. 결과값 출력하기\n",
    "warn_investment_list = [\"Microsoft\", \"Google\", \"Naver\", \"Kakao\", \"SAMSUNG\", \"LG\"]\n",
    "\n",
    "result = []\n",
    "for i in range (len(warn_investment_list)) :\n",
    "    warn_investment_list[i] = warn_investment_list[i].lower()\n",
    "    result.append(warn_investment_list[i])\n",
    "    \n",
    "print(result) "
   ]
  },
  {
   "cell_type": "code",
   "execution_count": 90,
   "id": "b3b92dfc-9951-4083-87a9-d272956cafc9",
   "metadata": {},
   "outputs": [
    {
     "name": "stdout",
     "output_type": "stream",
     "text": [
      "['microsoft', 'google', 'naver', 'kakao', 'samsung', 'lg']\n"
     ]
    }
   ],
   "source": [
    "warn_investment_list = [\"Microsoft\", \"Google\", \"Naver\", \"Kakao\", \"SAMSUNG\", \"LG\"]\n",
    "\n",
    "result = []\n",
    "  \n",
    "for stock in warn_investment_list:\n",
    "    result.append(stock.lower())\n",
    "\n",
    "print(result)"
   ]
  },
  {
   "cell_type": "code",
   "execution_count": 108,
   "id": "4d52fdc1-34d1-48cb-858f-1feb004e54ea",
   "metadata": {},
   "outputs": [
    {
     "name": "stdin",
     "output_type": "stream",
     "text": [
      "문자 Da\n"
     ]
    },
    {
     "name": "stdout",
     "output_type": "stream",
     "text": [
      "da\n"
     ]
    }
   ],
   "source": [
    "#121\n",
    "\n",
    "user = input(\"문자\")\n",
    "\n",
    "if user.islower() :\n",
    "    print (user.upper())\n",
    "else :\n",
    "    print (user.lower())"
   ]
  },
  {
   "cell_type": "code",
   "execution_count": null,
   "id": "487fb4df-a353-4c4e-bdcc-cf8aad75635a",
   "metadata": {},
   "outputs": [
    {
     "name": "stdin",
     "output_type": "stream",
     "text": [
      "점수 80\n"
     ]
    },
    {
     "name": "stdout",
     "output_type": "stream",
     "text": [
      "grade is B\n"
     ]
    }
   ],
   "source": [
    "#122\n",
    "user = input(\"점수\")\n",
    "user = int(user)\n",
    "\n",
    "if (100 >= user >= 81) : \n",
    "    print(\"grade is A\")\n",
    "elif (user >= 61) : \n",
    "    print(\"grade is B\")\n",
    "elif (user >= 41) : \n",
    "    print(\"grade is C\")\n",
    "elif (user >= 21) : \n",
    "    print(\"grade is D\")\n",
    "elif (user >= 0) : \n",
    "    print(\"grade is E\")    "
   ]
  },
  {
   "cell_type": "code",
   "execution_count": 155,
   "id": "ff508d54-d104-4ebd-bc23-f1336ad9bc36",
   "metadata": {},
   "outputs": [
    {
     "name": "stdout",
     "output_type": "stream",
     "text": [
      " 위안\n"
     ]
    }
   ],
   "source": [
    "# # user = \"100 위안\"\n",
    "\n",
    "# # print(user.index(\" \"))\n",
    "\n",
    "# # user[int(user.index(\" \"))+1:]\n",
    "# # user[:int(user.index(\" \"))]\n",
    "\n",
    "# user.index(\" \")\n",
    "# print(user[user.index(\" \"):])"
   ]
  },
  {
   "cell_type": "code",
   "execution_count": 178,
   "id": "7b404a85-0a53-4bce-80ba-31fa3eb15b72",
   "metadata": {},
   "outputs": [
    {
     "data": {
      "text/plain": [
       "'위안'"
      ]
     },
     "execution_count": 178,
     "metadata": {},
     "output_type": "execute_result"
    }
   ],
   "source": [
    "user = \"100 위안\"\n",
    "currency = user.split(\" \")\n",
    "currency[1]"
   ]
  },
  {
   "cell_type": "code",
   "execution_count": 172,
   "id": "e764e639-a489-466b-be09-ec7014e0e842",
   "metadata": {},
   "outputs": [
    {
     "name": "stdin",
     "output_type": "stream",
     "text": [
      "금액 5456 달러\n"
     ]
    },
    {
     "name": "stdout",
     "output_type": "stream",
     "text": [
      "6367152\n"
     ]
    }
   ],
   "source": [
    "#123\n",
    "#1.사용자로부터 금액 입력받기 (달러, 엔, 유로, 위안)\n",
    "#2. 통화별 환율값 설정하기 \n",
    "#3. 달러, 엔, 유로, 위안을 원으로 변환해서 결과값내기(if 활용)\n",
    "# 1167 = 달러\n",
    "# 1.096 = 엔\n",
    "# 1268 = 유로\n",
    "# 171 위안\n",
    "\n",
    "user = input(\"금액\")\n",
    "\n",
    "if (user[int(user.index(\" \"))+1:] == \"달러\") :\n",
    "    print (int(user[:user.index(\" \")]) * 1167) \n",
    "elif (user[int(user.index(\" \"))+1:] == \"엔\") :\n",
    "    print (int(user[:user.index(\" \")]) * 1.096)\n",
    "elif (user[int(user.index(\" \"))+1:] == \"유로\") :\n",
    "    print (int(user[:user.index(\" \")]) * 1268)\n",
    "else :  \n",
    "    print (int(user[:user.index(\" \")]) * 171) \n",
    "    "
   ]
  },
  {
   "cell_type": "code",
   "execution_count": 181,
   "id": "8ac33c4c-db2a-4c0f-9499-987a00376f43",
   "metadata": {},
   "outputs": [
    {
     "name": "stdin",
     "output_type": "stream",
     "text": [
      "금액 654 달러\n"
     ]
    },
    {
     "name": "stdout",
     "output_type": "stream",
     "text": [
      "763218 원\n"
     ]
    }
   ],
   "source": [
    "user = input(\"금액\")\n",
    "\n",
    "currency = user.split(\" \")\n",
    "if (currency[1] == \"달러\") :\n",
    "    print(int(currency[0]) * 1167, \"원\")\n",
    "    "
   ]
  },
  {
   "cell_type": "code",
   "execution_count": 205,
   "id": "1e34bdb1-d574-4840-aca3-eb39632359b5",
   "metadata": {},
   "outputs": [
    {
     "ename": "SyntaxError",
     "evalue": "cannot assign to function call (2960946412.py, line 5)",
     "output_type": "error",
     "traceback": [
      "\u001b[1;36m  File \u001b[1;32m\"C:\\Users\\SMART-10\\AppData\\Local\\Temp\\ipykernel_17364\\2960946412.py\"\u001b[1;36m, line \u001b[1;32m5\u001b[0m\n\u001b[1;33m    user (i) = input(\"숫자(i)\")\u001b[0m\n\u001b[1;37m    ^\u001b[0m\n\u001b[1;31mSyntaxError\u001b[0m\u001b[1;31m:\u001b[0m cannot assign to function call\n"
     ]
    }
   ],
   "source": [
    "#124 ??? \n",
    "#1. 사용자로부터 세 개 숫자입력받기 input\n",
    "#2. 가장 큰 숫자 출력하기 \n",
    "\n",
    "user1 = input(\"숫자1\")\n",
    "\n",
    "testList = [] \n",
    "for i in range(1,4) :\n",
    "    user (i) = input(\"숫자(i)\")\n",
    "    testList.append(user(i))\n",
    "\n",
    "\n",
    "# # 준영님\n",
    "# n =5\n",
    "# list1=[]\n",
    "# for i in range(0,n):\n",
    "#     list1.append(int(input()))\n",
    "# print(list1)    \n"
   ]
  },
  {
   "cell_type": "code",
   "execution_count": 202,
   "id": "defcfc80-32f8-414f-ab36-70804df66ae0",
   "metadata": {},
   "outputs": [
    {
     "data": {
      "text/plain": [
       "'011'"
      ]
     },
     "execution_count": 202,
     "metadata": {},
     "output_type": "execute_result"
    }
   ],
   "source": [
    "number = \"011-325-4654\"\n",
    "number.split(\"-\")[0]"
   ]
  },
  {
   "cell_type": "code",
   "execution_count": 204,
   "id": "acd85518-2f14-457d-86e6-6e37260a9802",
   "metadata": {},
   "outputs": [
    {
     "name": "stdin",
     "output_type": "stream",
     "text": [
      "휴대폰번호 010-654-3216\n"
     ]
    },
    {
     "name": "stdout",
     "output_type": "stream",
     "text": [
      "당신은 알수없음 사용자입니다\n"
     ]
    }
   ],
   "source": [
    "#125 \n",
    "# 번호 011 skt\n",
    "# 번호 016 kt\n",
    "# 번호 019 lgu\n",
    "# 번호 010 알수없음\n",
    "\n",
    "#1. 사용자 휴대전화번호 입력받기 - input\n",
    "#2. 통신사 \n",
    "\n",
    "number = input(\"휴대폰번호\")\n",
    "num = number.split(\"-\")\n",
    "if(num[0] == \"011\") : \n",
    "    print(\"당신은 skt 사용자입니다\")\n",
    "elif(num[0] == \"016\") : \n",
    "    print(\"당신은 kt 사용자입니다\")\n",
    "elif(num[0] == \"019\") : \n",
    "    print(\"당신은 lgu 사용자입니다\")\n",
    "else :\n",
    "        print(\"당신은 알수없음 사용자입니다\")"
   ]
  },
  {
   "cell_type": "code",
   "execution_count": 208,
   "id": "85e53c99-5a77-45b4-b91c-71075238bec8",
   "metadata": {},
   "outputs": [
    {
     "data": {
      "text/plain": [
       "'2'"
      ]
     },
     "execution_count": 208,
     "metadata": {},
     "output_type": "execute_result"
    }
   ],
   "source": [
    "postNumber = \"01200\"\n",
    "postNumber[2]\n"
   ]
  },
  {
   "cell_type": "code",
   "execution_count": 219,
   "id": "2dbdfc55-f0b4-4a28-b437-4bcc40be2450",
   "metadata": {},
   "outputs": [
    {
     "name": "stdin",
     "output_type": "stream",
     "text": [
      "우편번호 07865\n"
     ]
    },
    {
     "name": "stdout",
     "output_type": "stream",
     "text": [
      "노원구\n"
     ]
    }
   ],
   "source": [
    "#126\n",
    "\n",
    "postNumber = input(\"우편번호\")\n",
    "\n",
    "if (postNumber[2] == \"0\" or postNumber[2] == \"1\" or postNumber[2] == \"2\") :\n",
    "    print(\"강북구\")\n",
    "elif (postNumber[2] == \"3\" or postNumber[2] == \"4\" or postNumber[2] == \"5\") :\n",
    "    print(\"도봉구\")\n",
    "else :\n",
    "    print(\"노원구\")"
   ]
  },
  {
   "cell_type": "code",
   "execution_count": 222,
   "id": "372a9ded-43af-4399-98b6-4f79e80de75e",
   "metadata": {},
   "outputs": [
    {
     "name": "stdin",
     "output_type": "stream",
     "text": [
      " 4\n",
      " 5\n",
      " 6\n",
      " 4\n",
      " 1\n"
     ]
    },
    {
     "name": "stdout",
     "output_type": "stream",
     "text": [
      "[4, 5, 6, 4, 1]\n"
     ]
    }
   ],
   "source": []
  },
  {
   "cell_type": "code",
   "execution_count": 221,
   "id": "328e5f59-b940-4b48-a12c-366d44d456b2",
   "metadata": {},
   "outputs": [
    {
     "data": {
      "text/plain": [
       "[1, 2, 3, 4, 5]"
      ]
     },
     "execution_count": 221,
     "metadata": {},
     "output_type": "execute_result"
    }
   ],
   "source": [
    "list1"
   ]
  },
  {
   "cell_type": "code",
   "execution_count": null,
   "id": "bb2504ce-17a4-4459-85b8-3619c254be60",
   "metadata": {},
   "outputs": [],
   "source": []
  }
 ],
 "metadata": {
  "kernelspec": {
   "display_name": "Python 3 (ipykernel)",
   "language": "python",
   "name": "python3"
  },
  "language_info": {
   "codemirror_mode": {
    "name": "ipython",
    "version": 3
   },
   "file_extension": ".py",
   "mimetype": "text/x-python",
   "name": "python",
   "nbconvert_exporter": "python",
   "pygments_lexer": "ipython3",
   "version": "3.9.13"
  }
 },
 "nbformat": 4,
 "nbformat_minor": 5
}
