{
 "cells": [
  {
   "cell_type": "code",
   "execution_count": 1,
   "id": "8032e64f-8ccf-42c9-b4e8-683794e189df",
   "metadata": {},
   "outputs": [
    {
     "name": "stderr",
     "output_type": "stream",
     "text": [
      "[WDM] - Downloading: 100%|████████████████████████████████████████████████████████| 6.80M/6.80M [00:00<00:00, 15.7MB/s]\n"
     ]
    }
   ],
   "source": [
    "# Selenium 셀레늄으로 Chrome 웹 브라우저 띄우기 \n",
    "\n",
    "from selenium import webdriver\n",
    "\n",
    "from selenium.webdriver.chrome.service import Service\n",
    "from selenium.webdriver.chrome.options import Options\n",
    "from webdriver_manager.chrome import ChromeDriverManager\n",
    "\n",
    "chromeOption = Options()\n",
    "\n",
    "chromeOption.add_argument(\"window-size=1920X1080\")\n",
    "\n",
    "driver = webdriver.Chrome(service=Service(ChromeDriverManager().install() ),\n",
    "                          options=chromeOption)"
   ]
  },
  {
   "cell_type": "code",
   "execution_count": 53,
   "id": "051d6f52-f24b-49d3-a1a2-0ebeffa1772b",
   "metadata": {},
   "outputs": [],
   "source": [
    "import time"
   ]
  },
  {
   "cell_type": "code",
   "execution_count": 54,
   "id": "826e7c19-fe80-4aba-afd5-7dfda48f18ec",
   "metadata": {},
   "outputs": [],
   "source": [
    "time.sleep(10)"
   ]
  },
  {
   "cell_type": "code",
   "execution_count": 55,
   "id": "dd023c29-6fec-49a9-8cb7-c6f5aa8b5855",
   "metadata": {},
   "outputs": [],
   "source": [
    "driver.implicitly_wait(3) "
   ]
  },
  {
   "cell_type": "code",
   "execution_count": 56,
   "id": "58fb3ee0-65ff-4b4a-9cb9-019f3b8725e9",
   "metadata": {},
   "outputs": [],
   "source": [
    "# 웹페이지 이동하기\n",
    "targetUrl = \"https://www.google.com\"\n",
    "driver.get(targetUrl)\n"
   ]
  },
  {
   "cell_type": "code",
   "execution_count": 2,
   "id": "2a4ae3be-fb4b-49a1-bbb0-909810379e52",
   "metadata": {},
   "outputs": [
    {
     "data": {
      "text/plain": [
       "'C:\\\\Users\\\\SMART-10\\\\stdcode6\\\\Session04 - 외부연동 데이터 수집'"
      ]
     },
     "execution_count": 2,
     "metadata": {},
     "output_type": "execute_result"
    }
   ],
   "source": [
    "pwd"
   ]
  },
  {
   "cell_type": "code",
   "execution_count": 21,
   "id": "d7fc4d83-92e0-451b-b6fa-7999a79e1316",
   "metadata": {},
   "outputs": [],
   "source": [
    "# 버튼 클릭하기 \n",
    "\n",
    "quizBtnXpath = '/html/body/div[1]/div[1]/div/div/div/div[2]/a'\n",
    "\n",
    "from selenium.webdriver.common.by import By\n",
    "\n",
    "driver.find_element(By.XPATH, quizBtnXpath).click()"
   ]
  },
  {
   "cell_type": "code",
   "execution_count": null,
   "id": "d6e474c2-d28f-4e67-a4bf-a8df99a5a1bf",
   "metadata": {},
   "outputs": [],
   "source": [
    "driver.implicitly_wait(3) "
   ]
  },
  {
   "cell_type": "code",
   "execution_count": 15,
   "id": "c282e344-91ce-44c3-a763-76e853e7c699",
   "metadata": {},
   "outputs": [],
   "source": [
    "# 입력하기 \n",
    "\n",
    "googleInputXpath = '//*[@id=\"identifierId\"]'\n",
    "\n",
    "driver.find_element(By.XPATH, googleInputXpath).send_keys(\"eunjeongoh17\")\n",
    "\n",
    "# 엔터키, F1,F2 등 Keys 라이브러리\n",
    "\n",
    "from selenium.webdriver.common.keys import Keys\n",
    "\n",
    "driver.find_element(By.XPATH, googleInputXpath).send_keys(Keys.ENTER)"
   ]
  },
  {
   "cell_type": "code",
   "execution_count": null,
   "id": "a083bc43-3cf0-44e6-b7d6-837cf950eea7",
   "metadata": {},
   "outputs": [],
   "source": []
  },
  {
   "cell_type": "code",
   "execution_count": null,
   "id": "c46117c7-8065-474a-b045-640efa0e5e19",
   "metadata": {},
   "outputs": [],
   "source": [
    "# bs4 활용하기\n",
    "htmlObj = dirver.page_source\n",
    "\n",
    "bs4.BeautifulSoup(htmlObj, \"html.parser\")"
   ]
  },
  {
   "cell_type": "code",
   "execution_count": null,
   "id": "0bb0699b-1186-46e6-98b2-cade7b2783b7",
   "metadata": {},
   "outputs": [],
   "source": []
  },
  {
   "cell_type": "code",
   "execution_count": null,
   "id": "949a24ae-7096-4f09-89c7-cbc68e0718b4",
   "metadata": {},
   "outputs": [],
   "source": []
  },
  {
   "cell_type": "code",
   "execution_count": null,
   "id": "a6b9da3f-46a3-44b6-a969-53113be3d0a6",
   "metadata": {},
   "outputs": [],
   "source": []
  }
 ],
 "metadata": {
  "kernelspec": {
   "display_name": "Python 3 (ipykernel)",
   "language": "python",
   "name": "python3"
  },
  "language_info": {
   "codemirror_mode": {
    "name": "ipython",
    "version": 3
   },
   "file_extension": ".py",
   "mimetype": "text/x-python",
   "name": "python",
   "nbconvert_exporter": "python",
   "pygments_lexer": "ipython3",
   "version": "3.9.13"
  }
 },
 "nbformat": 4,
 "nbformat_minor": 5
}
